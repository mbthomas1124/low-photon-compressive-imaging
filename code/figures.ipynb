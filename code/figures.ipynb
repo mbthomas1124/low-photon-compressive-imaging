{
 "cells": [
  {
   "cell_type": "code",
   "execution_count": 1,
   "id": "e0d0d36a",
   "metadata": {},
   "outputs": [],
   "source": [
    "import numpy as np\n",
    "import pandas as pd\n",
    "import torch\n",
    "import matplotlib.pyplot as plt\n",
    "import matplotlib\n",
    "from matplotlib.font_manager import findfont, FontProperties\n",
    "from scipy.optimize import curve_fit"
   ]
  },
  {
   "cell_type": "code",
   "execution_count": null,
   "id": "d756be0e",
   "metadata": {},
   "outputs": [],
   "source": [
    "matplotlib.rcParams['font.family'] = \"serif\"\n",
    "matplotlib.rcParams['font.sans-serif'] = \"Times New Roman\"\n",
    "matplotlib.rcParams['font.size'] = 12\n",
    "\n",
    "results = pd.read_csv(\"../data/features/ASE_noise/reconstruction_results.csv\")\n",
    "direct = results[results[\"detection_type\"] == \"Direct Detection\"]\n",
    "qpms = results[results[\"detection_type\"] == \"QPMS\"]\n",
    "x_fitted = np.linspace(np.min(results[\"noise\"]), np.max(results[\"noise\"]), 100)\n",
    "\n",
    "\n",
    "plt.scatter(qpms[\"noise\"], qpms[\"val_loss\"], color='b')\n",
    "plt.plot(0, direct[\"val_loss\"], 'ro')\n",
    "popt, _ = curve_fit(lambda t, a, b, c: a * np.exp(b * t) + c, qpms[\"noise\"], qpms[\"val_loss\"])\n",
    "a = popt[0]\n",
    "b = popt[1]\n",
    "c = popt[2]\n",
    "# Create the fitted curve\n",
    "y_fitted = a * np.exp(b * x_fitted) + c\n",
    "plt.plot(x_fitted, y_fitted)\n",
    "plt.xscale(\"symlog\")\n",
    "plt.title(\"Validation Loss over Noise Level\")\n",
    "plt.ylabel(\"Average Batch Loss\")\n",
    "plt.xlabel(\"SNR (dB)\")\n",
    "plt.show()\n",
    "\n",
    "plt.scatter(qpms[\"noise\"], qpms[\"val_psnr\"], color='b')\n",
    "plt.plot(0, direct[\"val_loss\"], 'ro')\n",
    "plt.xscale(\"symlog\")\n",
    "plt.title(\"Validation Loss over Noise Level\")\n",
    "plt.ylabel(\"Average Batch PSNR\")\n",
    "plt.xlabel(\"SNR (dB)\")\n",
    "plt.show()\n",
    "\n",
    "plt.scatter(qpms[\"noise\"], qpms[\"val_ssim\"], color='b')\n",
    "plt.plot(0, direct[\"val_loss\"], 'ro')\n",
    "plt.xscale(\"symlog\")\n",
    "plt.title(\"Validation Loss over Noise Level\")\n",
    "plt.ylabel(\"Average Batch SSIM\")\n",
    "plt.xlabel(\"SNR (dB)\")\n",
    "plt.show()"
   ]
  },
  {
   "cell_type": "code",
   "execution_count": null,
   "id": "f52ce885",
   "metadata": {},
   "outputs": [],
   "source": []
  }
 ],
 "metadata": {
  "kernelspec": {
   "display_name": "Python 3 (ipykernel)",
   "language": "python",
   "name": "python3"
  },
  "language_info": {
   "codemirror_mode": {
    "name": "ipython",
    "version": 3
   },
   "file_extension": ".py",
   "mimetype": "text/x-python",
   "name": "python",
   "nbconvert_exporter": "python",
   "pygments_lexer": "ipython3",
   "version": "3.10.9"
  }
 },
 "nbformat": 4,
 "nbformat_minor": 5
}
